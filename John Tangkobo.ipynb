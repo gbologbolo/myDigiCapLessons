{
 "cells": [
  {
   "cell_type": "code",
   "execution_count": 26,
   "id": "0b6088dd",
   "metadata": {},
   "outputs": [],
   "source": [
    "#Question One"
   ]
  },
  {
   "cell_type": "code",
   "execution_count": 28,
   "id": "8690c7d1",
   "metadata": {},
   "outputs": [
    {
     "name": "stdout",
     "output_type": "stream",
     "text": [
      "[9 1 5 1 1]\n"
     ]
    }
   ],
   "source": [
    "import numpy as np\n",
    "\n",
    "# create a vector of length 5 filled with arbitrary integers from 0 to 10\n",
    "vector = np.random.randint(0, 11, size=5)\n",
    "\n",
    "print(vector)"
   ]
  },
  {
   "cell_type": "code",
   "execution_count": 30,
   "id": "fdd88783",
   "metadata": {},
   "outputs": [],
   "source": [
    "#Question Two"
   ]
  },
  {
   "cell_type": "code",
   "execution_count": 32,
   "id": "48597a4e",
   "metadata": {},
   "outputs": [
    {
     "name": "stdout",
     "output_type": "stream",
     "text": [
      "[16 17 18 19 20 21 22 23 24 25 26 27 28 29 30 31 32 33 34 35 36 37 38 39\n",
      " 40 41 42 43 44 45 46 47 48 49 50 51 52 53 54]\n"
     ]
    }
   ],
   "source": [
    "# create a vector with values ranging from 15 to 55\n",
    "vector = np.arange(15, 56)\n",
    "\n",
    "# print all values except the first and last\n",
    "print(vector[1:-1])"
   ]
  },
  {
   "cell_type": "code",
   "execution_count": 34,
   "id": "80b7bb53",
   "metadata": {},
   "outputs": [],
   "source": [
    "#Question Three"
   ]
  },
  {
   "cell_type": "code",
   "execution_count": 36,
   "id": "8710d49b",
   "metadata": {},
   "outputs": [
    {
     "name": "stdout",
     "output_type": "stream",
     "text": [
      "Average: 0.511485998633109\n",
      "Variance: 0.08407184974210062\n",
      "Standard Deviation: 0.28995146101046054\n"
     ]
    }
   ],
   "source": [
    "# create a random array with 1000 elements\n",
    "arr = np.random.rand(1000)\n",
    "\n",
    "# compute the average, variance, standard deviation of the array elements\n",
    "avg = np.mean(arr)\n",
    "var = np.var(arr)\n",
    "std_dev = np.std(arr)\n",
    "\n",
    "print(\"Average:\", avg)\n",
    "print(\"Variance:\", var)\n",
    "print(\"Standard Deviation:\", std_dev)"
   ]
  },
  {
   "cell_type": "code",
   "execution_count": 38,
   "id": "005fc17f",
   "metadata": {},
   "outputs": [],
   "source": [
    "#Question Four"
   ]
  },
  {
   "cell_type": "code",
   "execution_count": 40,
   "id": "4b99617d",
   "metadata": {},
   "outputs": [
    {
     "name": "stdout",
     "output_type": "stream",
     "text": [
      "Cumulative sum over rows for each of the 3 columns:\n",
      " [[ 1  2  3]\n",
      " [ 5  7  9]\n",
      " [12 15 18]]\n",
      "Cumulative sum over columns for each of the 2 rows:\n",
      " [[ 1  3  6]\n",
      " [ 4  9 15]\n",
      " [ 7 15 24]]\n"
     ]
    }
   ],
   "source": [
    "# create a 3x3 array\n",
    "arr = np.array([[1, 2, 3], [4, 5, 6], [7, 8, 9]])\n",
    "\n",
    "# calculate cumulative sum of the elements along axis 0 (sum over rows)\n",
    "sum_axis_0 = np.cumsum(arr, axis=0)\n",
    "\n",
    "# calculate cumulative sum of the elements along axis 1 (sum over columns)\n",
    "sum_axis_1 = np.cumsum(arr, axis=1)\n",
    "\n",
    "# print the results\n",
    "print(\"Cumulative sum over rows for each of the 3 columns:\\n\", sum_axis_0)\n",
    "print(\"Cumulative sum over columns for each of the 2 rows:\\n\", sum_axis_1)"
   ]
  },
  {
   "cell_type": "code",
   "execution_count": 42,
   "id": "8233a199",
   "metadata": {},
   "outputs": [],
   "source": [
    "#Question Five"
   ]
  },
  {
   "cell_type": "code",
   "execution_count": 44,
   "id": "b65593a4",
   "metadata": {},
   "outputs": [
    {
     "name": "stdout",
     "output_type": "stream",
     "text": [
      "[[1 2]\n",
      " [3 4]]\n"
     ]
    }
   ],
   "source": [
    "# create two matrices\n",
    "mat1 = np.array([[1, 0], [0, 1]])\n",
    "mat2 = np.array([[1, 2], [3, 4]])\n",
    "\n",
    "# multiply the matrices\n",
    "result = np.dot(mat1, mat2)\n",
    "\n",
    "# print the result\n",
    "print(result)"
   ]
  },
  {
   "cell_type": "code",
   "execution_count": null,
   "id": "6f26f548",
   "metadata": {},
   "outputs": [],
   "source": []
  }
 ],
 "metadata": {
  "kernelspec": {
   "display_name": "Python 3 (ipykernel)",
   "language": "python",
   "name": "python3"
  },
  "language_info": {
   "codemirror_mode": {
    "name": "ipython",
    "version": 3
   },
   "file_extension": ".py",
   "mimetype": "text/x-python",
   "name": "python",
   "nbconvert_exporter": "python",
   "pygments_lexer": "ipython3",
   "version": "3.9.7"
  }
 },
 "nbformat": 4,
 "nbformat_minor": 5
}
